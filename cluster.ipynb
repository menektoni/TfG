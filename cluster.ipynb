{
 "cells": [
  {
   "cell_type": "code",
   "execution_count": 46,
   "id": "cardiovascular-rates",
   "metadata": {},
   "outputs": [],
   "source": [
    "import numpy as np\n",
    "import pandas as pd\n",
    "import matplotlib\n",
    "import matplotlib.pyplot as plt\n",
    "import seaborn as sns\n",
    "import scipy as sp\n",
    "import math\n",
    "\n",
    "import re\n",
    "\n",
    "from sklearn.utils import shuffle\n",
    "from sklearn.cluster import KMeans"
   ]
  },
  {
   "cell_type": "markdown",
   "id": "harmful-personal",
   "metadata": {},
   "source": [
    "## Aigua"
   ]
  },
  {
   "cell_type": "code",
   "execution_count": 4,
   "id": "blond-grant",
   "metadata": {},
   "outputs": [],
   "source": [
    "games = pd.read_csv('/Users/tonidomenech/Desktop/TfG/Data/Aigua/aiguadebarri_games.csv')\n",
    "participants = pd.read_csv('/Users/tonidomenech/Desktop/TfG/Data/Aigua/aiguadebarri_participants.csv')\n",
    "user_evo_aigua = pd.read_csv('/Users/tonidomenech/Desktop/TfG/Data/Aigua/aiguadebarri_participants_contributions.csv')"
   ]
  },
  {
   "cell_type": "markdown",
   "id": "considerable-cycle",
   "metadata": {},
   "source": [
    "## Vila"
   ]
  },
  {
   "cell_type": "code",
   "execution_count": 5,
   "id": "established-lebanon",
   "metadata": {},
   "outputs": [],
   "source": [
    "partida = pd.read_csv('/Users/tonidomenech/Desktop/TfG/Data/Viladecans/partida.csv')\n",
    "ronda = pd.read_csv('/Users/tonidomenech/Desktop/TfG/Data/Viladecans/ronda.csv')\n",
    "user_vila = pd.read_csv('/Users/tonidomenech/Desktop/TfG/Data/Viladecans/user.csv')\n",
    "user_ronda = pd.read_csv('/Users/tonidomenech/Desktop/TfG/Data/Viladecans/userronda.csv')"
   ]
  },
  {
   "cell_type": "markdown",
   "id": "ranking-dress",
   "metadata": {},
   "source": [
    "## Clima"
   ]
  },
  {
   "cell_type": "code",
   "execution_count": 56,
   "id": "preceding-manor",
   "metadata": {},
   "outputs": [],
   "source": [
    "round_cccb = pd.read_csv('/Users/tonidomenech/Desktop/TfG/Data/Clima/round_CCCB.csv')\n",
    "round_ciutadella = pd.read_csv('/Users/tonidomenech/Desktop/TfG/Data/Clima/round_ciutadella.csv')\n",
    "user_cccb = pd.read_excel('../../TfG/Data/Clima/user_CCCB_excel.xlsx', header=1)\n",
    "user_round_ciutadella = pd.read_csv('/Users/tonidomenech/Desktop/TfG/Data/Clima/userround_ciutadella.csv')\n",
    "user_round_cccb = pd.read_csv('/Users/tonidomenech/Desktop/TfG/Data/Clima/userround_CCCB.csv')\n",
    "# user_ciutadella = pd.read_csv('/Users/tonidomenech/Desktop/TfG/Data/Clima/user_ciutadella.csv')\n",
    "session_cccb = pd.read_csv('/Users/tonidomenech/Desktop/TfG/Data/Clima/session_CCCB.csv')\n",
    "session_ciutadella = pd.read_csv('/Users/tonidomenech/Desktop/TfG/Data/Clima/session_ciutadella.csv')"
   ]
  },
  {
   "cell_type": "markdown",
   "id": "assured-gazette",
   "metadata": {},
   "source": [
    "# Feature Engineering"
   ]
  },
  {
   "cell_type": "code",
   "execution_count": 8,
   "id": "liable-thanks",
   "metadata": {},
   "outputs": [],
   "source": [
    "def contributions_separation(string):\n",
    "    return [int(i) for i in re.findall('[0-9]+', string)]"
   ]
  },
  {
   "cell_type": "markdown",
   "id": "listed-wednesday",
   "metadata": {},
   "source": [
    "#### Aigua"
   ]
  },
  {
   "cell_type": "code",
   "execution_count": 33,
   "id": "senior-country",
   "metadata": {},
   "outputs": [],
   "source": [
    "array_tank = user_evo_aigua['contribution'].apply(contributions_separation)\n",
    "\n",
    "# Introduction into our contributions dataframe.\n",
    "for j in range(0, len(array_tank)):\n",
    "    for i in range(1, 11):\n",
    "        user_evo_aigua.loc[[j],['c'+str(i)]] = array_tank[j][i-1]\n",
    "        \n",
    "user_evo_aigua.drop(labels='contribution', axis=1, inplace=True)"
   ]
  },
  {
   "cell_type": "code",
   "execution_count": 35,
   "id": "wicked-preference",
   "metadata": {},
   "outputs": [
    {
     "data": {
      "text/plain": [
       "126"
      ]
     },
     "execution_count": 35,
     "metadata": {},
     "output_type": "execute_result"
    }
   ],
   "source": [
    "len(user_evo_aigua['c1'])"
   ]
  },
  {
   "cell_type": "markdown",
   "id": "numeric-prime",
   "metadata": {},
   "source": [
    "#### Viladecans"
   ]
  },
  {
   "cell_type": "code",
   "execution_count": 39,
   "id": "adjacent-virginia",
   "metadata": {},
   "outputs": [],
   "source": [
    "# Trying to grab all the data in one.\n",
    "\n",
    "user_evo = {}\n",
    "for i in range(1, 182):\n",
    "    if (len(np.asarray(user_ronda[user_ronda['user_id']==i]['option_selected'])) == 10):\n",
    "        user_evo['user%s' % i] = np.asarray(user_ronda[user_ronda['user_id']==i]['option_selected'])\n",
    "    else:\n",
    "        user_evo['user%s' % i] = np.zeros(10)\n",
    "        #print(i)\n",
    "        #pass\n",
    "        \n",
    "    # You have to equalize the length of all the vectors to put into a dataframe.\n",
    "user_evo = pd.DataFrame.from_dict(user_evo, columns=['c1','c2','c3','c4','c5','c6','c7','c8','c9','c10'], orient='index')"
   ]
  },
  {
   "cell_type": "code",
   "execution_count": 40,
   "id": "secondary-degree",
   "metadata": {},
   "outputs": [
    {
     "data": {
      "text/plain": [
       "181"
      ]
     },
     "execution_count": 40,
     "metadata": {},
     "output_type": "execute_result"
    }
   ],
   "source": [
    "len(user_evo['c1'])"
   ]
  },
  {
   "cell_type": "markdown",
   "id": "parental-hours",
   "metadata": {},
   "source": [
    "#### Clima"
   ]
  },
  {
   "cell_type": "code",
   "execution_count": 74,
   "id": "flying-planet",
   "metadata": {},
   "outputs": [],
   "source": [
    "complicated_numbers = []\n",
    "for i in range(1, 211):\n",
    "    if(len(user_round_cccb[user_round_cccb['user_id']==i]['option_selected'])==0):\n",
    "        complicated_numbers.append(i)"
   ]
  },
  {
   "cell_type": "code",
   "execution_count": 90,
   "id": "first-cassette",
   "metadata": {},
   "outputs": [],
   "source": [
    "\n",
    "user_evo_clima = {}\n",
    "for i in range(1, 211):\n",
    "    try:\n",
    "        vec_i = np.asarray(user_round_cccb[user_round_cccb['user_id']==i]['option_selected'])\n",
    "        game = np.asarray(user_round_cccb[user_round_cccb['user_id']==i]['round_id'])[0]//10\n",
    "        a = np.asarray(np.append(vec_i, game))\n",
    "        user_evo_clima['user%s' % i] = a\n",
    "\n",
    "        # You have to equalize the length of all the vectors to put into a dataframe.\n",
    "    except:\n",
    "        pass\n",
    "user_evo_clima = pd.DataFrame.from_dict(user_evo_clima, columns=['c1','c2','c3','c4','c5','c6','c7','c8','c9','c10','game_id'], orient='index')"
   ]
  },
  {
   "cell_type": "code",
   "execution_count": 91,
   "id": "incident-neighborhood",
   "metadata": {},
   "outputs": [
    {
     "data": {
      "text/plain": [
       "192"
      ]
     },
     "execution_count": 91,
     "metadata": {},
     "output_type": "execute_result"
    }
   ],
   "source": [
    "len(user_evo_clima['c1'])"
   ]
  },
  {
   "cell_type": "markdown",
   "id": "compound-coordination",
   "metadata": {},
   "source": [
    "# Mutual Information"
   ]
  },
  {
   "cell_type": "code",
   "execution_count": 43,
   "id": "pending-familiar",
   "metadata": {},
   "outputs": [],
   "source": [
    "# THE ULTIMATE MUTUAL INFOMRATION (FOR 3 VALUES) FUNCTION.\n",
    "\n",
    "def mutual_information(dataframe):\n",
    "    side = dataframe.count()['c1'] + 1\n",
    "    i = 0\n",
    "    smi_ver_vila = np.zeros(shape=(side,side))\n",
    "    for index_1, user_1 in dataframe.iterrows():\n",
    "        i += 1\n",
    "        j = 0\n",
    "        for index_2, user_2 in dataframe.iterrows():\n",
    "            j += 1\n",
    "            index_1 = contributions_separation(str(index_1))[0]\n",
    "            index_2 = contributions_separation(str(index_2))[0]\n",
    "            x_array = np.asarray(user_1[['c1', 'c2', 'c3','c4', 'c5', 'c6','c7', 'c8', 'c9', 'c10']])\n",
    "            y_array = np.asarray(user_2[['c1', 'c2', 'c3','c4', 'c5', 'c6','c7', 'c8', 'c9', 'c10']])\n",
    "\n",
    "\n",
    "            y_prob = []  \n",
    "            cont_0y = 0\n",
    "            cont_2y = 0\n",
    "            cont_4y = 0\n",
    "\n",
    "            x_prob = []\n",
    "            cont_0 = 0\n",
    "            cont_2 = 0\n",
    "            cont_4 = 0\n",
    "\n",
    "            # Y PROBABILITIES\n",
    "            for index, num in enumerate(y_array):\n",
    "                # Pair of Study Catched\n",
    "\n",
    "\n",
    "                # Separate Probabilities:\n",
    "\n",
    "\n",
    "                if num == 0:\n",
    "                    cont_0y += 1\n",
    "                elif num == 2:\n",
    "                    cont_2y += 1\n",
    "                else:\n",
    "                    cont_4y += 1\n",
    "            y_prob.append(cont_0y/10)\n",
    "            y_prob.append(cont_2y/10)\n",
    "            y_prob.append(cont_4y/10)\n",
    "\n",
    "\n",
    "\n",
    "\n",
    "            # X PROBABILITIES\n",
    "            for index, num in enumerate(x_array):\n",
    "                # Pair of Study Catched\n",
    "                pair = [num, y_array[index]]\n",
    "\n",
    "                # Separate Probabilities:\n",
    "\n",
    "\n",
    "                if num == 0:\n",
    "                    cont_0 += 1\n",
    "                elif num == 2:\n",
    "                    cont_2 += 1\n",
    "                else:\n",
    "                    cont_4 += 1\n",
    "            x_prob.append(cont_0/10)\n",
    "            x_prob.append(cont_2/10)\n",
    "            x_prob.append(cont_4/10)\n",
    "\n",
    "\n",
    "            # CONDITIONATED PROBABILITY AND MUTUAL INFORMATION    \n",
    "            mi = 0        # INITIATING THE MUTUAL INFORMATION FOR EACH VALUE\n",
    "            for index, num in enumerate(x_array):\n",
    "                # PROBABILITIES\n",
    "                px = x_prob[int(num)//2]\n",
    "                py = y_prob[int(y_array[index])//2]\n",
    "\n",
    "\n",
    "\n",
    "                # Condicionated Probability:\n",
    "                # It looks that what we have here works. \n",
    "                pos_x = []\n",
    "                for index_x, num_x in enumerate(x_array):\n",
    "\n",
    "                    if num == num_x:\n",
    "                        pos_x.append(index_x)\n",
    "                cont_y = 0\n",
    "                for pos in pos_x:\n",
    "                    if y_array[index] == y_array[pos]:\n",
    "                        cont_y += 1\n",
    "\n",
    "                p_x_given_y = cont_y/len(pos_x)\n",
    "\n",
    "                mi = mi + (p_x_given_y*px*math.log(p_x_given_y*px/(px*py),3))\n",
    "\n",
    "            if mi != None:\n",
    "                smi_ver_vila[i, j] = mi/10\n",
    "            else:\n",
    "                smi_ver_vila[i, j] = 0\n",
    "    return smi_ver_vila\n",
    "\n",
    "# THE ULTIMATE MUTUAL INFOMRATION (FOR 3 VALUES) FUNCTION.\n",
    "\n",
    "def mutual_information_shuffled(dataframe):\n",
    "    side = dataframe.count()['c1'] + 1\n",
    "    i = 0\n",
    "    smi_ver_vila = np.zeros(shape=(side,side))\n",
    "    for index_1, user_1 in dataframe.iterrows():\n",
    "        i += 1\n",
    "        j = 0\n",
    "        for index_2, user_2 in dataframe.iterrows():\n",
    "            j += 1\n",
    "            index_1 = contributions_separation(str(index_1))[0]\n",
    "            index_2 = contributions_separation(str(index_2))[0]\n",
    "            x_array = shuffle(np.asarray(user_1[['c1', 'c2', 'c3','c4', 'c5', 'c6','c7', 'c8', 'c9', 'c10']]))\n",
    "            y_array = shuffle(np.asarray(user_2[['c1', 'c2', 'c3','c4', 'c5', 'c6','c7', 'c8', 'c9', 'c10']]))\n",
    "\n",
    "\n",
    "            y_prob = []  \n",
    "            cont_0y = 0\n",
    "            cont_2y = 0\n",
    "            cont_4y = 0\n",
    "\n",
    "            x_prob = []\n",
    "            cont_0 = 0\n",
    "            cont_2 = 0\n",
    "            cont_4 = 0\n",
    "\n",
    "            # Y PROBABILITIES\n",
    "            for index, num in enumerate(y_array):\n",
    "                # Pair of Study Catched\n",
    "\n",
    "\n",
    "                # Separate Probabilities:\n",
    "\n",
    "\n",
    "                if num == 0:\n",
    "                    cont_0y += 1\n",
    "                elif num == 2:\n",
    "                    cont_2y += 1\n",
    "                else:\n",
    "                    cont_4y += 1\n",
    "            y_prob.append(cont_0y/10)\n",
    "            y_prob.append(cont_2y/10)\n",
    "            y_prob.append(cont_4y/10)\n",
    "\n",
    "\n",
    "\n",
    "\n",
    "            # X PROBABILITIES\n",
    "            for index, num in enumerate(x_array):\n",
    "                # Pair of Study Catched\n",
    "                pair = [num, y_array[index]]\n",
    "\n",
    "                # Separate Probabilities:\n",
    "\n",
    "\n",
    "                if num == 0:\n",
    "                    cont_0 += 1\n",
    "                elif num == 2:\n",
    "                    cont_2 += 1\n",
    "                else:\n",
    "                    cont_4 += 1\n",
    "            x_prob.append(cont_0/10)\n",
    "            x_prob.append(cont_2/10)\n",
    "            x_prob.append(cont_4/10)\n",
    "\n",
    "\n",
    "            # CONDITIONATED PROBABILITY AND MUTUAL INFORMATION    \n",
    "            mi = 0        # INITIATING THE MUTUAL INFORMATION FOR EACH VALUE\n",
    "            for index, num in enumerate(x_array):\n",
    "                # PROBABILITIES\n",
    "                px = x_prob[int(num)//2]\n",
    "                py = y_prob[int(y_array[index])//2]\n",
    "\n",
    "\n",
    "\n",
    "                # Condicionated Probability:\n",
    "                # It looks that what we have here works. \n",
    "                pos_x = []\n",
    "                for index_x, num_x in enumerate(x_array):\n",
    "\n",
    "                    if num == num_x:\n",
    "                        pos_x.append(index_x)\n",
    "                cont_y = 0\n",
    "                for pos in pos_x:\n",
    "                    if y_array[index] == y_array[pos]:\n",
    "                        cont_y += 1\n",
    "\n",
    "                p_x_given_y = cont_y/len(pos_x)\n",
    "\n",
    "                mi = mi + (p_x_given_y*px*math.log(p_x_given_y*px/(px*py),3))\n",
    "\n",
    "            if mi != None:\n",
    "                smi_ver_vila[i, j] = mi/10\n",
    "            else:\n",
    "                smi_ver_vila[i, j] = 0\n",
    "    return smi_ver_vila\n",
    "\n",
    "def mi_masked(natural, shuffled):\n",
    "    mask = np.zeros(natural.shape)\n",
    "    \n",
    "    for i in range(0, natural.shape[0]):\n",
    "        for j in range(0, natural.shape[1]):\n",
    "            if((natural[i,j]-shuffled[i,j]) > 0):\n",
    "                mask[i, j] = 1\n",
    "    return mask*natural       "
   ]
  },
  {
   "cell_type": "code",
   "execution_count": 44,
   "id": "upper-cleaners",
   "metadata": {},
   "outputs": [],
   "source": [
    "mi_clima = mutual_information(user_evo_clima)\n",
    "mi_vila = mutual_information(user_evo)\n",
    "mi_aigua = mutual_information(user_evo_aigua)"
   ]
  },
  {
   "cell_type": "code",
   "execution_count": 45,
   "id": "several-immigration",
   "metadata": {},
   "outputs": [],
   "source": [
    "mi_clima_shuffled = mutual_information_shuffled(user_evo_clima)\n",
    "mi_aigua_shuffled = mutual_information_shuffled(user_evo_aigua)\n",
    "mi_vila_shuffled = mutual_information_shuffled(user_evo)"
   ]
  },
  {
   "cell_type": "markdown",
   "id": "advised-bangladesh",
   "metadata": {},
   "source": [
    "### Total Mutual Information"
   ]
  },
  {
   "cell_type": "code",
   "execution_count": 48,
   "id": "fatty-saturday",
   "metadata": {},
   "outputs": [],
   "source": [
    "raw_evo_vila = user_evo[['c1', 'c2', 'c3','c4', 'c5', 'c6','c7', 'c8', 'c9', 'c10']]\n",
    "raw_evo_clima = user_evo_clima[['c1', 'c2', 'c3','c4', 'c5', 'c6','c7', 'c8', 'c9', 'c10']]\n",
    "raw_evo_aigua = user_evo_aigua[['c1', 'c2', 'c3','c4', 'c5', 'c6','c7', 'c8', 'c9', 'c10']]\n",
    "\n",
    "frames = [raw_evo_vila, raw_evo_aigua, raw_evo_clima]\n",
    "\n",
    "total_evo = pd.concat(frames)\n",
    "\n",
    "total_evo = total_evo.reset_index()\n",
    "\n",
    "mi_total = mutual_information(total_evo)\n",
    "mi_total_shuffled = mutual_information_shuffled(total_evo)\n",
    "\n",
    "mi_total_def = mi_masked(mi_total, mi_total_shuffled)"
   ]
  },
  {
   "cell_type": "code",
   "execution_count": 49,
   "id": "correct-experiment",
   "metadata": {},
   "outputs": [],
   "source": [
    "np.max(mi_total_def)\n",
    "mi_total_def_norm = mi_total_def/np.max(mi_total_def)"
   ]
  },
  {
   "cell_type": "markdown",
   "id": "still-drive",
   "metadata": {},
   "source": [
    "## Clusteritzation"
   ]
  },
  {
   "cell_type": "code",
   "execution_count": 107,
   "id": "meaningful-residence",
   "metadata": {},
   "outputs": [
    {
     "data": {
      "text/plain": [
       "500"
      ]
     },
     "execution_count": 107,
     "metadata": {},
     "output_type": "execute_result"
    }
   ],
   "source": [
    "kmeans = KMeans(n_clusters=8).fit(mi_total_def_norm)\n",
    "labels = kmeans.labels_\n",
    "\n",
    "len(labels)"
   ]
  },
  {
   "cell_type": "markdown",
   "id": "recovered-tutorial",
   "metadata": {},
   "source": [
    "#### Vila"
   ]
  },
  {
   "cell_type": "code",
   "execution_count": 51,
   "id": "italic-construction",
   "metadata": {},
   "outputs": [
    {
     "name": "stderr",
     "output_type": "stream",
     "text": [
      "/Users/tonidomenech/Desktop/Python/envs/tfg/lib/python3.8/site-packages/pandas-1.3.0.dev0+1028.gbed5ae2c14-py3.8-macosx-10.14.6-arm64.egg/pandas/core/frame.py:3583: SettingWithCopyWarning: \n",
      "A value is trying to be set on a copy of a slice from a DataFrame.\n",
      "Try using .loc[row_indexer,col_indexer] = value instead\n",
      "\n",
      "See the caveats in the documentation: https://pandas.pydata.org/pandas-docs/stable/user_guide/indexing.html#returning-a-view-versus-a-copy\n",
      "  self._set_item(key, value)\n",
      "/Users/tonidomenech/Desktop/Python/envs/tfg/lib/python3.8/site-packages/pandas-1.3.0.dev0+1028.gbed5ae2c14-py3.8-macosx-10.14.6-arm64.egg/pandas/core/frame.py:4776: SettingWithCopyWarning: \n",
      "A value is trying to be set on a copy of a slice from a DataFrame\n",
      "\n",
      "See the caveats in the documentation: https://pandas.pydata.org/pandas-docs/stable/user_guide/indexing.html#returning-a-view-versus-a-copy\n",
      "  return super().drop(\n"
     ]
    }
   ],
   "source": [
    "user_treated = user_vila[['genere', 'rang_edat', 'nivell_estudis']]\n",
    "\n",
    "user_treated[['gender', 'age', 'education']] = user_treated[['genere', 'rang_edat', 'nivell_estudis']]\n",
    "\n",
    "user_treated.drop('genere', axis=1, inplace=True)\n",
    "user_treated.drop('rang_edat', axis=1, inplace=True)\n",
    "user_treated.drop('nivell_estudis', axis=1, inplace=True)"
   ]
  },
  {
   "cell_type": "code",
   "execution_count": 53,
   "id": "available-binding",
   "metadata": {},
   "outputs": [
    {
     "data": {
      "text/plain": [
       "181"
      ]
     },
     "execution_count": 53,
     "metadata": {},
     "output_type": "execute_result"
    }
   ],
   "source": [
    "len(user_treated['age'])"
   ]
  },
  {
   "cell_type": "markdown",
   "id": "raised-converter",
   "metadata": {},
   "source": [
    "#### Aigua"
   ]
  },
  {
   "cell_type": "code",
   "execution_count": 52,
   "id": "otherwise-training",
   "metadata": {},
   "outputs": [],
   "source": [
    "participants_treated = participants[['gender', 'age', 'education']]"
   ]
  },
  {
   "cell_type": "code",
   "execution_count": 54,
   "id": "italian-height",
   "metadata": {},
   "outputs": [
    {
     "data": {
      "text/plain": [
       "126"
      ]
     },
     "execution_count": 54,
     "metadata": {},
     "output_type": "execute_result"
    }
   ],
   "source": [
    "len(participants_treated['age'])"
   ]
  },
  {
   "cell_type": "markdown",
   "id": "wired-print",
   "metadata": {},
   "source": [
    "#### Clima"
   ]
  },
  {
   "cell_type": "code",
   "execution_count": 57,
   "id": "resident-change",
   "metadata": {},
   "outputs": [
    {
     "name": "stderr",
     "output_type": "stream",
     "text": [
      "/Users/tonidomenech/Desktop/Python/envs/tfg/lib/python3.8/site-packages/pandas-1.3.0.dev0+1028.gbed5ae2c14-py3.8-macosx-10.14.6-arm64.egg/pandas/core/frame.py:3583: SettingWithCopyWarning: \n",
      "A value is trying to be set on a copy of a slice from a DataFrame.\n",
      "Try using .loc[row_indexer,col_indexer] = value instead\n",
      "\n",
      "See the caveats in the documentation: https://pandas.pydata.org/pandas-docs/stable/user_guide/indexing.html#returning-a-view-versus-a-copy\n",
      "  self._set_item(key, value)\n",
      "/Users/tonidomenech/Desktop/Python/envs/tfg/lib/python3.8/site-packages/pandas-1.3.0.dev0+1028.gbed5ae2c14-py3.8-macosx-10.14.6-arm64.egg/pandas/core/frame.py:4776: SettingWithCopyWarning: \n",
      "A value is trying to be set on a copy of a slice from a DataFrame\n",
      "\n",
      "See the caveats in the documentation: https://pandas.pydata.org/pandas-docs/stable/user_guide/indexing.html#returning-a-view-versus-a-copy\n",
      "  return super().drop(\n"
     ]
    }
   ],
   "source": [
    "user_cccb_treated = user_cccb[['gender', 'age_range', 'educational_level']]\n",
    "\n",
    "user_cccb_treated[['age', 'education']] = user_cccb_treated[['age_range', 'educational_level']]\n",
    "\n",
    "user_cccb_treated.drop('age_range', axis=1, inplace=True)\n",
    "user_cccb_treated.drop('educational_level', axis=1, inplace=True)"
   ]
  },
  {
   "cell_type": "code",
   "execution_count": 58,
   "id": "different-fourth",
   "metadata": {},
   "outputs": [
    {
     "data": {
      "text/plain": [
       "188"
      ]
     },
     "execution_count": 58,
     "metadata": {},
     "output_type": "execute_result"
    }
   ],
   "source": [
    "len(user_cccb_treated['age'])"
   ]
  },
  {
   "cell_type": "markdown",
   "id": "fluid-correction",
   "metadata": {},
   "source": [
    "### Joining the Clusters.\n",
    "\n",
    "There is some kind of error in the data of the clima dataset. So we aren't going to use it for this plots but we will be using it for the mutual information either way"
   ]
  },
  {
   "cell_type": "code",
   "execution_count": 205,
   "id": "lucky-tonight",
   "metadata": {},
   "outputs": [],
   "source": [
    "frames = [user_treated, participants_treated]\n",
    "\n",
    "total_demographic = pd.concat(frames)\n",
    "total_demographic.reset_index()\n",
    "\n",
    "total_demographic = total_demographic[['gender', 'age', 'education']]"
   ]
  },
  {
   "cell_type": "code",
   "execution_count": 206,
   "id": "alpha-wagon",
   "metadata": {},
   "outputs": [
    {
     "data": {
      "text/html": [
       "<div>\n",
       "<style scoped>\n",
       "    .dataframe tbody tr th:only-of-type {\n",
       "        vertical-align: middle;\n",
       "    }\n",
       "\n",
       "    .dataframe tbody tr th {\n",
       "        vertical-align: top;\n",
       "    }\n",
       "\n",
       "    .dataframe thead th {\n",
       "        text-align: right;\n",
       "    }\n",
       "</style>\n",
       "<table border=\"1\" class=\"dataframe\">\n",
       "  <thead>\n",
       "    <tr style=\"text-align: right;\">\n",
       "      <th></th>\n",
       "      <th>gender</th>\n",
       "      <th>age</th>\n",
       "      <th>education</th>\n",
       "    </tr>\n",
       "  </thead>\n",
       "  <tbody>\n",
       "    <tr>\n",
       "      <th>0</th>\n",
       "      <td>F</td>\n",
       "      <td>r6</td>\n",
       "      <td>r2</td>\n",
       "    </tr>\n",
       "    <tr>\n",
       "      <th>1</th>\n",
       "      <td>M</td>\n",
       "      <td>r6</td>\n",
       "      <td>r7</td>\n",
       "    </tr>\n",
       "    <tr>\n",
       "      <th>2</th>\n",
       "      <td>M</td>\n",
       "      <td>r7</td>\n",
       "      <td>r4</td>\n",
       "    </tr>\n",
       "    <tr>\n",
       "      <th>3</th>\n",
       "      <td>F</td>\n",
       "      <td>r7</td>\n",
       "      <td>r2</td>\n",
       "    </tr>\n",
       "    <tr>\n",
       "      <th>4</th>\n",
       "      <td>M</td>\n",
       "      <td>r4</td>\n",
       "      <td>r6</td>\n",
       "    </tr>\n",
       "  </tbody>\n",
       "</table>\n",
       "</div>"
      ],
      "text/plain": [
       "  gender age education\n",
       "0      F  r6        r2\n",
       "1      M  r6        r7\n",
       "2      M  r7        r4\n",
       "3      F  r7        r2\n",
       "4      M  r4        r6"
      ]
     },
     "execution_count": 206,
     "metadata": {},
     "output_type": "execute_result"
    }
   ],
   "source": [
    "total_demographic.head()"
   ]
  },
  {
   "cell_type": "code",
   "execution_count": 213,
   "id": "sonic-budget",
   "metadata": {},
   "outputs": [],
   "source": [
    "total_demographic[['age']].fillna(value='r0', inplace=True)"
   ]
  },
  {
   "cell_type": "code",
   "execution_count": 214,
   "id": "mental-sweet",
   "metadata": {},
   "outputs": [
    {
     "data": {
      "text/plain": [
       "array(['r6', 'r7', 'r4', 'r5', 'r1', 'r2', 'r3', 'r8', nan], dtype=object)"
      ]
     },
     "execution_count": 214,
     "metadata": {},
     "output_type": "execute_result"
    }
   ],
   "source": [
    "total_demographic['age'].unique()"
   ]
  },
  {
   "cell_type": "code",
   "execution_count": 209,
   "id": "ignored-vienna",
   "metadata": {},
   "outputs": [
    {
     "name": "stderr",
     "output_type": "stream",
     "text": [
      "/Users/tonidomenech/Desktop/Python/envs/tfg/lib/python3.8/site-packages/pandas-1.3.0.dev0+1028.gbed5ae2c14-py3.8-macosx-10.14.6-arm64.egg/pandas/core/frame.py:3583: SettingWithCopyWarning: \n",
      "A value is trying to be set on a copy of a slice from a DataFrame.\n",
      "Try using .loc[row_indexer,col_indexer] = value instead\n",
      "\n",
      "See the caveats in the documentation: https://pandas.pydata.org/pandas-docs/stable/user_guide/indexing.html#returning-a-view-versus-a-copy\n",
      "  self._set_item(key, value)\n"
     ]
    }
   ],
   "source": []
  },
  {
   "cell_type": "code",
   "execution_count": 210,
   "id": "fleet-spelling",
   "metadata": {},
   "outputs": [
    {
     "data": {
      "text/html": [
       "<div>\n",
       "<style scoped>\n",
       "    .dataframe tbody tr th:only-of-type {\n",
       "        vertical-align: middle;\n",
       "    }\n",
       "\n",
       "    .dataframe tbody tr th {\n",
       "        vertical-align: top;\n",
       "    }\n",
       "\n",
       "    .dataframe thead th {\n",
       "        text-align: right;\n",
       "    }\n",
       "</style>\n",
       "<table border=\"1\" class=\"dataframe\">\n",
       "  <thead>\n",
       "    <tr style=\"text-align: right;\">\n",
       "      <th></th>\n",
       "      <th>gender</th>\n",
       "      <th>age</th>\n",
       "      <th>education</th>\n",
       "    </tr>\n",
       "  </thead>\n",
       "  <tbody>\n",
       "    <tr>\n",
       "      <th>18</th>\n",
       "      <td>NaN</td>\n",
       "      <td>r1</td>\n",
       "      <td>r2</td>\n",
       "    </tr>\n",
       "    <tr>\n",
       "      <th>21</th>\n",
       "      <td>NaN</td>\n",
       "      <td>r8</td>\n",
       "      <td>r6</td>\n",
       "    </tr>\n",
       "    <tr>\n",
       "      <th>29</th>\n",
       "      <td>NaN</td>\n",
       "      <td>r8</td>\n",
       "      <td>r6</td>\n",
       "    </tr>\n",
       "    <tr>\n",
       "      <th>111</th>\n",
       "      <td>NaN</td>\n",
       "      <td>NaN</td>\n",
       "      <td>NaN</td>\n",
       "    </tr>\n",
       "    <tr>\n",
       "      <th>112</th>\n",
       "      <td>NaN</td>\n",
       "      <td>r1</td>\n",
       "      <td>r2</td>\n",
       "    </tr>\n",
       "  </tbody>\n",
       "</table>\n",
       "</div>"
      ],
      "text/plain": [
       "    gender  age education\n",
       "18     NaN   r1        r2\n",
       "21     NaN   r8        r6\n",
       "29     NaN   r8        r6\n",
       "111    NaN  NaN       NaN\n",
       "112    NaN   r1        r2"
      ]
     },
     "execution_count": 210,
     "metadata": {},
     "output_type": "execute_result"
    }
   ],
   "source": [
    "total_demographic[total_demographic['gender'].isna()]"
   ]
  },
  {
   "cell_type": "code",
   "execution_count": 173,
   "id": "consistent-confusion",
   "metadata": {},
   "outputs": [],
   "source": [
    "labels = labels[:307]"
   ]
  },
  {
   "cell_type": "code",
   "execution_count": 174,
   "id": "fluid-stylus",
   "metadata": {},
   "outputs": [],
   "source": [
    "total_demographic['cluster'] = labels"
   ]
  },
  {
   "cell_type": "code",
   "execution_count": 175,
   "id": "antique-check",
   "metadata": {},
   "outputs": [
    {
     "ename": "ConversionError",
     "evalue": "Failed to convert value(s) to axis units: 0      r2\n1      r7\n2      r4\n3      r2\n4      r6\n       ..\n121    r2\n122    r2\n123    r3\n124    r3\n125    r1\nName: y, Length: 307, dtype: object",
     "output_type": "error",
     "traceback": [
      "\u001b[0;31m---------------------------------------------------------------------------\u001b[0m",
      "\u001b[0;31mTypeError\u001b[0m                                 Traceback (most recent call last)",
      "\u001b[0;32m~/Desktop/Python/envs/tfg/lib/python3.8/site-packages/matplotlib/axis.py\u001b[0m in \u001b[0;36mconvert_units\u001b[0;34m(self, x)\u001b[0m\n\u001b[1;32m   1522\u001b[0m         \u001b[0;32mtry\u001b[0m\u001b[0;34m:\u001b[0m\u001b[0;34m\u001b[0m\u001b[0;34m\u001b[0m\u001b[0m\n\u001b[0;32m-> 1523\u001b[0;31m             \u001b[0mret\u001b[0m \u001b[0;34m=\u001b[0m \u001b[0mself\u001b[0m\u001b[0;34m.\u001b[0m\u001b[0mconverter\u001b[0m\u001b[0;34m.\u001b[0m\u001b[0mconvert\u001b[0m\u001b[0;34m(\u001b[0m\u001b[0mx\u001b[0m\u001b[0;34m,\u001b[0m \u001b[0mself\u001b[0m\u001b[0;34m.\u001b[0m\u001b[0munits\u001b[0m\u001b[0;34m,\u001b[0m \u001b[0mself\u001b[0m\u001b[0;34m)\u001b[0m\u001b[0;34m\u001b[0m\u001b[0;34m\u001b[0m\u001b[0m\n\u001b[0m\u001b[1;32m   1524\u001b[0m         \u001b[0;32mexcept\u001b[0m \u001b[0mException\u001b[0m \u001b[0;32mas\u001b[0m \u001b[0me\u001b[0m\u001b[0;34m:\u001b[0m\u001b[0;34m\u001b[0m\u001b[0;34m\u001b[0m\u001b[0m\n",
      "\u001b[0;32m~/Desktop/Python/envs/tfg/lib/python3.8/site-packages/matplotlib/category.py\u001b[0m in \u001b[0;36mconvert\u001b[0;34m(value, unit, axis)\u001b[0m\n\u001b[1;32m     60\u001b[0m         \u001b[0;31m# force an update so it also does type checking\u001b[0m\u001b[0;34m\u001b[0m\u001b[0;34m\u001b[0m\u001b[0;34m\u001b[0m\u001b[0m\n\u001b[0;32m---> 61\u001b[0;31m         \u001b[0munit\u001b[0m\u001b[0;34m.\u001b[0m\u001b[0mupdate\u001b[0m\u001b[0;34m(\u001b[0m\u001b[0mvalues\u001b[0m\u001b[0;34m)\u001b[0m\u001b[0;34m\u001b[0m\u001b[0;34m\u001b[0m\u001b[0m\n\u001b[0m\u001b[1;32m     62\u001b[0m         \u001b[0;32mreturn\u001b[0m \u001b[0mnp\u001b[0m\u001b[0;34m.\u001b[0m\u001b[0mvectorize\u001b[0m\u001b[0;34m(\u001b[0m\u001b[0munit\u001b[0m\u001b[0;34m.\u001b[0m\u001b[0m_mapping\u001b[0m\u001b[0;34m.\u001b[0m\u001b[0m__getitem__\u001b[0m\u001b[0;34m,\u001b[0m \u001b[0motypes\u001b[0m\u001b[0;34m=\u001b[0m\u001b[0;34m[\u001b[0m\u001b[0mfloat\u001b[0m\u001b[0;34m]\u001b[0m\u001b[0;34m)\u001b[0m\u001b[0;34m(\u001b[0m\u001b[0mvalues\u001b[0m\u001b[0;34m)\u001b[0m\u001b[0;34m\u001b[0m\u001b[0;34m\u001b[0m\u001b[0m\n",
      "\u001b[0;32m~/Desktop/Python/envs/tfg/lib/python3.8/site-packages/matplotlib/category.py\u001b[0m in \u001b[0;36mupdate\u001b[0;34m(self, data)\u001b[0m\n\u001b[1;32m    210\u001b[0m             \u001b[0;31m# OrderedDict just iterates over unique values in data.\u001b[0m\u001b[0;34m\u001b[0m\u001b[0;34m\u001b[0m\u001b[0;34m\u001b[0m\u001b[0m\n\u001b[0;32m--> 211\u001b[0;31m             \u001b[0mcbook\u001b[0m\u001b[0;34m.\u001b[0m\u001b[0m_check_isinstance\u001b[0m\u001b[0;34m(\u001b[0m\u001b[0;34m(\u001b[0m\u001b[0mstr\u001b[0m\u001b[0;34m,\u001b[0m \u001b[0mbytes\u001b[0m\u001b[0;34m)\u001b[0m\u001b[0;34m,\u001b[0m \u001b[0mvalue\u001b[0m\u001b[0;34m=\u001b[0m\u001b[0mval\u001b[0m\u001b[0;34m)\u001b[0m\u001b[0;34m\u001b[0m\u001b[0;34m\u001b[0m\u001b[0m\n\u001b[0m\u001b[1;32m    212\u001b[0m             \u001b[0;32mif\u001b[0m \u001b[0mconvertible\u001b[0m\u001b[0;34m:\u001b[0m\u001b[0;34m\u001b[0m\u001b[0;34m\u001b[0m\u001b[0m\n",
      "\u001b[0;32m~/Desktop/Python/envs/tfg/lib/python3.8/site-packages/matplotlib/cbook/__init__.py\u001b[0m in \u001b[0;36m_check_isinstance\u001b[0;34m(_types, **kwargs)\u001b[0m\n\u001b[1;32m   2245\u001b[0m         \u001b[0;32mif\u001b[0m \u001b[0;32mnot\u001b[0m \u001b[0misinstance\u001b[0m\u001b[0;34m(\u001b[0m\u001b[0mv\u001b[0m\u001b[0;34m,\u001b[0m \u001b[0mtypes\u001b[0m\u001b[0;34m)\u001b[0m\u001b[0;34m:\u001b[0m\u001b[0;34m\u001b[0m\u001b[0;34m\u001b[0m\u001b[0m\n\u001b[0;32m-> 2246\u001b[0;31m             raise TypeError(\n\u001b[0m\u001b[1;32m   2247\u001b[0m                 \"{!r} must be an instance of {}, not a {}\".format(\n",
      "\u001b[0;31mTypeError\u001b[0m: 'value' must be an instance of str or bytes, not a float",
      "\nThe above exception was the direct cause of the following exception:\n",
      "\u001b[0;31mConversionError\u001b[0m                           Traceback (most recent call last)",
      "\u001b[0;32m<ipython-input-175-55f90c0cb0ff>\u001b[0m in \u001b[0;36m<module>\u001b[0;34m\u001b[0m\n\u001b[0;32m----> 1\u001b[0;31m \u001b[0msns\u001b[0m\u001b[0;34m.\u001b[0m\u001b[0mhistplot\u001b[0m\u001b[0;34m(\u001b[0m\u001b[0mtotal_demographic\u001b[0m\u001b[0;34m,\u001b[0m \u001b[0mx\u001b[0m\u001b[0;34m=\u001b[0m\u001b[0;34m'age'\u001b[0m\u001b[0;34m,\u001b[0m \u001b[0my\u001b[0m\u001b[0;34m=\u001b[0m\u001b[0;34m'education'\u001b[0m\u001b[0;34m)\u001b[0m\u001b[0;34m\u001b[0m\u001b[0;34m\u001b[0m\u001b[0m\n\u001b[0m",
      "\u001b[0;32m~/Desktop/Python/envs/tfg/lib/python3.8/site-packages/seaborn/distributions.py\u001b[0m in \u001b[0;36mhistplot\u001b[0;34m(data, x, y, hue, weights, stat, bins, binwidth, binrange, discrete, cumulative, common_bins, common_norm, multiple, element, fill, shrink, kde, kde_kws, line_kws, thresh, pthresh, pmax, cbar, cbar_ax, cbar_kws, palette, hue_order, hue_norm, color, log_scale, legend, ax, **kwargs)\u001b[0m\n\u001b[1;32m   1439\u001b[0m     \u001b[0;32melse\u001b[0m\u001b[0;34m:\u001b[0m\u001b[0;34m\u001b[0m\u001b[0;34m\u001b[0m\u001b[0m\n\u001b[1;32m   1440\u001b[0m \u001b[0;34m\u001b[0m\u001b[0m\n\u001b[0;32m-> 1441\u001b[0;31m         p.plot_bivariate_histogram(\n\u001b[0m\u001b[1;32m   1442\u001b[0m             \u001b[0mcommon_bins\u001b[0m\u001b[0;34m=\u001b[0m\u001b[0mcommon_bins\u001b[0m\u001b[0;34m,\u001b[0m\u001b[0;34m\u001b[0m\u001b[0;34m\u001b[0m\u001b[0m\n\u001b[1;32m   1443\u001b[0m             \u001b[0mcommon_norm\u001b[0m\u001b[0;34m=\u001b[0m\u001b[0mcommon_norm\u001b[0m\u001b[0;34m,\u001b[0m\u001b[0;34m\u001b[0m\u001b[0;34m\u001b[0m\u001b[0m\n",
      "\u001b[0;32m~/Desktop/Python/envs/tfg/lib/python3.8/site-packages/seaborn/distributions.py\u001b[0m in \u001b[0;36mplot_bivariate_histogram\u001b[0;34m(self, common_bins, common_norm, thresh, pthresh, pmax, color, legend, cbar, cbar_ax, cbar_kws, estimate_kws, **plot_kws)\u001b[0m\n\u001b[1;32m    746\u001b[0m \u001b[0;34m\u001b[0m\u001b[0m\n\u001b[1;32m    747\u001b[0m         \u001b[0mfull_heights\u001b[0m \u001b[0;34m=\u001b[0m \u001b[0;34m[\u001b[0m\u001b[0;34m]\u001b[0m\u001b[0;34m\u001b[0m\u001b[0;34m\u001b[0m\u001b[0m\n\u001b[0;32m--> 748\u001b[0;31m         \u001b[0;32mfor\u001b[0m \u001b[0m_\u001b[0m\u001b[0;34m,\u001b[0m \u001b[0msub_data\u001b[0m \u001b[0;32min\u001b[0m \u001b[0mself\u001b[0m\u001b[0;34m.\u001b[0m\u001b[0miter_data\u001b[0m\u001b[0;34m(\u001b[0m\u001b[0mfrom_comp_data\u001b[0m\u001b[0;34m=\u001b[0m\u001b[0;32mTrue\u001b[0m\u001b[0;34m)\u001b[0m\u001b[0;34m:\u001b[0m\u001b[0;34m\u001b[0m\u001b[0;34m\u001b[0m\u001b[0m\n\u001b[0m\u001b[1;32m    749\u001b[0m             \u001b[0msub_data\u001b[0m \u001b[0;34m=\u001b[0m \u001b[0msub_data\u001b[0m\u001b[0;34m.\u001b[0m\u001b[0mdropna\u001b[0m\u001b[0;34m(\u001b[0m\u001b[0;34m)\u001b[0m\u001b[0;34m\u001b[0m\u001b[0;34m\u001b[0m\u001b[0m\n\u001b[1;32m    750\u001b[0m             sub_heights, _ = estimator(\n",
      "\u001b[0;32m~/Desktop/Python/envs/tfg/lib/python3.8/site-packages/seaborn/_core.py\u001b[0m in \u001b[0;36miter_data\u001b[0;34m(self, grouping_vars, reverse, from_comp_data)\u001b[0m\n\u001b[1;32m    980\u001b[0m \u001b[0;34m\u001b[0m\u001b[0m\n\u001b[1;32m    981\u001b[0m         \u001b[0;32mif\u001b[0m \u001b[0mfrom_comp_data\u001b[0m\u001b[0;34m:\u001b[0m\u001b[0;34m\u001b[0m\u001b[0;34m\u001b[0m\u001b[0m\n\u001b[0;32m--> 982\u001b[0;31m             \u001b[0mdata\u001b[0m \u001b[0;34m=\u001b[0m \u001b[0mself\u001b[0m\u001b[0;34m.\u001b[0m\u001b[0mcomp_data\u001b[0m\u001b[0;34m\u001b[0m\u001b[0;34m\u001b[0m\u001b[0m\n\u001b[0m\u001b[1;32m    983\u001b[0m         \u001b[0;32melse\u001b[0m\u001b[0;34m:\u001b[0m\u001b[0;34m\u001b[0m\u001b[0;34m\u001b[0m\u001b[0m\n\u001b[1;32m    984\u001b[0m             \u001b[0mdata\u001b[0m \u001b[0;34m=\u001b[0m \u001b[0mself\u001b[0m\u001b[0;34m.\u001b[0m\u001b[0mplot_data\u001b[0m\u001b[0;34m\u001b[0m\u001b[0;34m\u001b[0m\u001b[0m\n",
      "\u001b[0;32m~/Desktop/Python/envs/tfg/lib/python3.8/site-packages/seaborn/_core.py\u001b[0m in \u001b[0;36mcomp_data\u001b[0;34m(self)\u001b[0m\n\u001b[1;32m   1049\u001b[0m                 \u001b[0maxis\u001b[0m \u001b[0;34m=\u001b[0m \u001b[0mgetattr\u001b[0m\u001b[0;34m(\u001b[0m\u001b[0max\u001b[0m\u001b[0;34m,\u001b[0m \u001b[0;34mf\"{var}axis\"\u001b[0m\u001b[0;34m)\u001b[0m\u001b[0;34m\u001b[0m\u001b[0;34m\u001b[0m\u001b[0m\n\u001b[1;32m   1050\u001b[0m \u001b[0;34m\u001b[0m\u001b[0m\n\u001b[0;32m-> 1051\u001b[0;31m                 \u001b[0mcomp_var\u001b[0m \u001b[0;34m=\u001b[0m \u001b[0maxis\u001b[0m\u001b[0;34m.\u001b[0m\u001b[0mconvert_units\u001b[0m\u001b[0;34m(\u001b[0m\u001b[0mself\u001b[0m\u001b[0;34m.\u001b[0m\u001b[0mplot_data\u001b[0m\u001b[0;34m[\u001b[0m\u001b[0mvar\u001b[0m\u001b[0;34m]\u001b[0m\u001b[0;34m)\u001b[0m\u001b[0;34m\u001b[0m\u001b[0;34m\u001b[0m\u001b[0m\n\u001b[0m\u001b[1;32m   1052\u001b[0m                 \u001b[0;32mif\u001b[0m \u001b[0maxis\u001b[0m\u001b[0;34m.\u001b[0m\u001b[0mget_scale\u001b[0m\u001b[0;34m(\u001b[0m\u001b[0;34m)\u001b[0m \u001b[0;34m==\u001b[0m \u001b[0;34m\"log\"\u001b[0m\u001b[0;34m:\u001b[0m\u001b[0;34m\u001b[0m\u001b[0;34m\u001b[0m\u001b[0m\n\u001b[1;32m   1053\u001b[0m                     \u001b[0mcomp_var\u001b[0m \u001b[0;34m=\u001b[0m \u001b[0mnp\u001b[0m\u001b[0;34m.\u001b[0m\u001b[0mlog10\u001b[0m\u001b[0;34m(\u001b[0m\u001b[0mcomp_var\u001b[0m\u001b[0;34m)\u001b[0m\u001b[0;34m\u001b[0m\u001b[0;34m\u001b[0m\u001b[0m\n",
      "\u001b[0;32m~/Desktop/Python/envs/tfg/lib/python3.8/site-packages/matplotlib/axis.py\u001b[0m in \u001b[0;36mconvert_units\u001b[0;34m(self, x)\u001b[0m\n\u001b[1;32m   1523\u001b[0m             \u001b[0mret\u001b[0m \u001b[0;34m=\u001b[0m \u001b[0mself\u001b[0m\u001b[0;34m.\u001b[0m\u001b[0mconverter\u001b[0m\u001b[0;34m.\u001b[0m\u001b[0mconvert\u001b[0m\u001b[0;34m(\u001b[0m\u001b[0mx\u001b[0m\u001b[0;34m,\u001b[0m \u001b[0mself\u001b[0m\u001b[0;34m.\u001b[0m\u001b[0munits\u001b[0m\u001b[0;34m,\u001b[0m \u001b[0mself\u001b[0m\u001b[0;34m)\u001b[0m\u001b[0;34m\u001b[0m\u001b[0;34m\u001b[0m\u001b[0m\n\u001b[1;32m   1524\u001b[0m         \u001b[0;32mexcept\u001b[0m \u001b[0mException\u001b[0m \u001b[0;32mas\u001b[0m \u001b[0me\u001b[0m\u001b[0;34m:\u001b[0m\u001b[0;34m\u001b[0m\u001b[0;34m\u001b[0m\u001b[0m\n\u001b[0;32m-> 1525\u001b[0;31m             raise munits.ConversionError('Failed to convert value(s) to axis '\n\u001b[0m\u001b[1;32m   1526\u001b[0m                                          f'units: {x!r}') from e\n\u001b[1;32m   1527\u001b[0m         \u001b[0;32mreturn\u001b[0m \u001b[0mret\u001b[0m\u001b[0;34m\u001b[0m\u001b[0;34m\u001b[0m\u001b[0m\n",
      "\u001b[0;31mConversionError\u001b[0m: Failed to convert value(s) to axis units: 0      r2\n1      r7\n2      r4\n3      r2\n4      r6\n       ..\n121    r2\n122    r2\n123    r3\n124    r3\n125    r1\nName: y, Length: 307, dtype: object"
     ]
    },
    {
     "data": {
      "image/png": "[encoded data removed]",
      "text/plain": [
       "<Figure size 432x288 with 1 Axes>"
      ]
     },
     "metadata": {
      "needs_background": "light"
     },
     "output_type": "display_data"
    }
   ],
   "source": [
    "sns.histplot(total_demographic, x='age', y='education')"
   ]
  },
  {
   "cell_type": "code",
   "execution_count": null,
   "id": "fifteen-activity",
   "metadata": {},
   "outputs": [],
   "source": []
  },
  {
   "cell_type": "code",
   "execution_count": null,
   "id": "fresh-disaster",
   "metadata": {},
   "outputs": [],
   "source": []
  }
 ],
 "metadata": {
  "kernelspec": {
   "display_name": "Python 3",
   "language": "python",
   "name": "python3"
  },
  "language_info": {
   "codemirror_mode": {
    "name": "ipython",
    "version": 3
   },
   "file_extension": ".py",
   "mimetype": "text/x-python",
   "name": "python",
   "nbconvert_exporter": "python",
   "pygments_lexer": "ipython3",
   "version": "3.8.2"
  }
 },
 "nbformat": 4,
 "nbformat_minor": 5
}
