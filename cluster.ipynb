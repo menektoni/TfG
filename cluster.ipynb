{
 "cells": [
  {
   "cell_type": "code",
   "execution_count": 1,
   "id": "cardiovascular-rates",
   "metadata": {},
   "outputs": [],
   "source": [
    "import numpy as np\n",
    "import pandas as pd\n",
    "import matplotlib\n",
    "import matplotlib.pyplot as plt\n",
    "import seaborn as sns\n",
    "import scipy as sp\n",
    "import math\n",
    "\n",
    "import re\n",
    "\n",
    "from sklearn.utils import shuffle\n",
    "from sklearn.cluster import KMeans"
   ]
  },
  {
   "cell_type": "markdown",
   "id": "harmful-personal",
   "metadata": {},
   "source": [
    "## Aigua"
   ]
  },
  {
   "cell_type": "code",
   "execution_count": 2,
   "id": "blond-grant",
   "metadata": {},
   "outputs": [],
   "source": [
    "games = pd.read_csv('/Users/tonidomenech/Desktop/TfG/Data/Aigua/aiguadebarri_games.csv')\n",
    "participants = pd.read_csv('/Users/tonidomenech/Desktop/TfG/Data/Aigua/aiguadebarri_participants.csv')\n",
    "user_evo_aigua = pd.read_csv('/Users/tonidomenech/Desktop/TfG/Data/Aigua/aiguadebarri_participants_contributions.csv')"
   ]
  },
  {
   "cell_type": "markdown",
   "id": "considerable-cycle",
   "metadata": {},
   "source": [
    "## Vila"
   ]
  },
  {
   "cell_type": "code",
   "execution_count": 3,
   "id": "established-lebanon",
   "metadata": {},
   "outputs": [],
   "source": [
    "partida = pd.read_csv('/Users/tonidomenech/Desktop/TfG/Data/Viladecans/partida.csv')\n",
    "ronda = pd.read_csv('/Users/tonidomenech/Desktop/TfG/Data/Viladecans/ronda.csv')\n",
    "user_vila = pd.read_csv('/Users/tonidomenech/Desktop/TfG/Data/Viladecans/user.csv')\n",
    "user_ronda = pd.read_csv('/Users/tonidomenech/Desktop/TfG/Data/Viladecans/userronda.csv')"
   ]
  },
  {
   "cell_type": "markdown",
   "id": "ranking-dress",
   "metadata": {},
   "source": [
    "## Clima"
   ]
  },
  {
   "cell_type": "code",
   "execution_count": 4,
   "id": "preceding-manor",
   "metadata": {},
   "outputs": [],
   "source": [
    "round_cccb = pd.read_csv('/Users/tonidomenech/Desktop/TfG/Data/Clima/round_CCCB.csv')\n",
    "round_ciutadella = pd.read_csv('/Users/tonidomenech/Desktop/TfG/Data/Clima/round_ciutadella.csv')\n",
    "user_cccb = pd.read_excel('../../TfG/Data/Clima/user_CCCB_excel.xlsx', header=1)\n",
    "user_round_ciutadella = pd.read_csv('/Users/tonidomenech/Desktop/TfG/Data/Clima/userround_ciutadella.csv')\n",
    "user_round_cccb = pd.read_csv('/Users/tonidomenech/Desktop/TfG/Data/Clima/userround_CCCB.csv')\n",
    "# user_ciutadella = pd.read_csv('/Users/tonidomenech/Desktop/TfG/Data/Clima/user_ciutadella.csv')\n",
    "session_cccb = pd.read_csv('/Users/tonidomenech/Desktop/TfG/Data/Clima/session_CCCB.csv')\n",
    "session_ciutadella = pd.read_csv('/Users/tonidomenech/Desktop/TfG/Data/Clima/session_ciutadella.csv')"
   ]
  },
  {
   "cell_type": "markdown",
   "id": "assured-gazette",
   "metadata": {},
   "source": [
    "# Feature Engineering"
   ]
  },
  {
   "cell_type": "code",
   "execution_count": 5,
   "id": "liable-thanks",
   "metadata": {},
   "outputs": [],
   "source": [
    "def contributions_separation(string):\n",
    "    return [int(i) for i in re.findall('[0-9]+', string)]"
   ]
  },
  {
   "cell_type": "markdown",
   "id": "listed-wednesday",
   "metadata": {},
   "source": [
    "#### Aigua"
   ]
  },
  {
   "cell_type": "code",
   "execution_count": 6,
   "id": "senior-country",
   "metadata": {},
   "outputs": [],
   "source": [
    "array_tank = user_evo_aigua['contribution'].apply(contributions_separation)\n",
    "\n",
    "# Introduction into our contributions dataframe.\n",
    "for j in range(0, len(array_tank)):\n",
    "    for i in range(1, 11):\n",
    "        user_evo_aigua.loc[[j],['c'+str(i)]] = array_tank[j][i-1]\n",
    "        \n",
    "user_evo_aigua.drop(labels='contribution', axis=1, inplace=True)"
   ]
  },
  {
   "cell_type": "code",
   "execution_count": 7,
   "id": "wicked-preference",
   "metadata": {},
   "outputs": [
    {
     "data": {
      "text/plain": [
       "126"
      ]
     },
     "execution_count": 7,
     "metadata": {},
     "output_type": "execute_result"
    }
   ],
   "source": [
    "len(user_evo_aigua['c1'])"
   ]
  },
  {
   "cell_type": "markdown",
   "id": "numeric-prime",
   "metadata": {},
   "source": [
    "#### Viladecans"
   ]
  },
  {
   "cell_type": "code",
   "execution_count": 8,
   "id": "adjacent-virginia",
   "metadata": {},
   "outputs": [],
   "source": [
    "# Trying to grab all the data in one.\n",
    "\n",
    "user_evo = {}\n",
    "for i in range(1, 182):\n",
    "    if (len(np.asarray(user_ronda[user_ronda['user_id']==i]['option_selected'])) == 10):\n",
    "        user_evo['user%s' % i] = np.asarray(user_ronda[user_ronda['user_id']==i]['option_selected'])\n",
    "    else:\n",
    "        user_evo['user%s' % i] = np.zeros(10)\n",
    "        #print(i)\n",
    "        #pass\n",
    "        \n",
    "    # You have to equalize the length of all the vectors to put into a dataframe.\n",
    "user_evo = pd.DataFrame.from_dict(user_evo, columns=['c1','c2','c3','c4','c5','c6','c7','c8','c9','c10'], orient='index')"
   ]
  },
  {
   "cell_type": "code",
   "execution_count": 9,
   "id": "secondary-degree",
   "metadata": {},
   "outputs": [
    {
     "data": {
      "text/plain": [
       "181"
      ]
     },
     "execution_count": 9,
     "metadata": {},
     "output_type": "execute_result"
    }
   ],
   "source": [
    "len(user_evo['c1'])"
   ]
  },
  {
   "cell_type": "markdown",
   "id": "parental-hours",
   "metadata": {},
   "source": [
    "#### Clima"
   ]
  },
  {
   "cell_type": "code",
   "execution_count": 10,
   "id": "flying-planet",
   "metadata": {},
   "outputs": [],
   "source": [
    "complicated_numbers = []\n",
    "for i in range(1, 211):\n",
    "    if(len(user_round_cccb[user_round_cccb['user_id']==i]['option_selected'])==0):\n",
    "        complicated_numbers.append(i)"
   ]
  },
  {
   "cell_type": "code",
   "execution_count": 11,
   "id": "first-cassette",
   "metadata": {},
   "outputs": [],
   "source": [
    "\n",
    "user_evo_clima = {}\n",
    "for i in range(1, 211):\n",
    "    try:\n",
    "        vec_i = np.asarray(user_round_cccb[user_round_cccb['user_id']==i]['option_selected'])\n",
    "        game = np.asarray(user_round_cccb[user_round_cccb['user_id']==i]['round_id'])[0]//10\n",
    "        a = np.asarray(np.append(vec_i, game))\n",
    "        user_evo_clima['user%s' % i] = a\n",
    "\n",
    "        # You have to equalize the length of all the vectors to put into a dataframe.\n",
    "    except:\n",
    "        pass\n",
    "user_evo_clima = pd.DataFrame.from_dict(user_evo_clima, columns=['c1','c2','c3','c4','c5','c6','c7','c8','c9','c10','game_id'], orient='index')"
   ]
  },
  {
   "cell_type": "code",
   "execution_count": 12,
   "id": "incident-neighborhood",
   "metadata": {},
   "outputs": [
    {
     "data": {
      "text/plain": [
       "192"
      ]
     },
     "execution_count": 12,
     "metadata": {},
     "output_type": "execute_result"
    }
   ],
   "source": [
    "len(user_evo_clima['c1'])"
   ]
  },
  {
   "cell_type": "markdown",
   "id": "compound-coordination",
   "metadata": {},
   "source": [
    "# Mutual Information"
   ]
  },
  {
   "cell_type": "code",
   "execution_count": 13,
   "id": "pending-familiar",
   "metadata": {},
   "outputs": [],
   "source": [
    "# THE ULTIMATE MUTUAL INFOMRATION (FOR 3 VALUES) FUNCTION.\n",
    "\n",
    "def mutual_information(dataframe):\n",
    "    side = dataframe.count()['c1'] + 1\n",
    "    i = 0\n",
    "    smi_ver_vila = np.zeros(shape=(side,side))\n",
    "    for index_1, user_1 in dataframe.iterrows():\n",
    "        i += 1\n",
    "        j = 0\n",
    "        for index_2, user_2 in dataframe.iterrows():\n",
    "            j += 1\n",
    "            index_1 = contributions_separation(str(index_1))[0]\n",
    "            index_2 = contributions_separation(str(index_2))[0]\n",
    "            x_array = np.asarray(user_1[['c1', 'c2', 'c3','c4', 'c5', 'c6','c7', 'c8', 'c9', 'c10']])\n",
    "            y_array = np.asarray(user_2[['c1', 'c2', 'c3','c4', 'c5', 'c6','c7', 'c8', 'c9', 'c10']])\n",
    "\n",
    "\n",
    "            y_prob = []  \n",
    "            cont_0y = 0\n",
    "            cont_2y = 0\n",
    "            cont_4y = 0\n",
    "\n",
    "            x_prob = []\n",
    "            cont_0 = 0\n",
    "            cont_2 = 0\n",
    "            cont_4 = 0\n",
    "\n",
    "            # Y PROBABILITIES\n",
    "            for index, num in enumerate(y_array):\n",
    "                # Pair of Study Catched\n",
    "\n",
    "\n",
    "                # Separate Probabilities:\n",
    "\n",
    "\n",
    "                if num == 0:\n",
    "                    cont_0y += 1\n",
    "                elif num == 2:\n",
    "                    cont_2y += 1\n",
    "                else:\n",
    "                    cont_4y += 1\n",
    "            y_prob.append(cont_0y/10)\n",
    "            y_prob.append(cont_2y/10)\n",
    "            y_prob.append(cont_4y/10)\n",
    "\n",
    "\n",
    "\n",
    "\n",
    "            # X PROBABILITIES\n",
    "            for index, num in enumerate(x_array):\n",
    "                # Pair of Study Catched\n",
    "                pair = [num, y_array[index]]\n",
    "\n",
    "                # Separate Probabilities:\n",
    "\n",
    "\n",
    "                if num == 0:\n",
    "                    cont_0 += 1\n",
    "                elif num == 2:\n",
    "                    cont_2 += 1\n",
    "                else:\n",
    "                    cont_4 += 1\n",
    "            x_prob.append(cont_0/10)\n",
    "            x_prob.append(cont_2/10)\n",
    "            x_prob.append(cont_4/10)\n",
    "\n",
    "\n",
    "            # CONDITIONATED PROBABILITY AND MUTUAL INFORMATION    \n",
    "            mi = 0        # INITIATING THE MUTUAL INFORMATION FOR EACH VALUE\n",
    "            for index, num in enumerate(x_array):\n",
    "                # PROBABILITIES\n",
    "                px = x_prob[int(num)//2]\n",
    "                py = y_prob[int(y_array[index])//2]\n",
    "\n",
    "\n",
    "\n",
    "                # Condicionated Probability:\n",
    "                # It looks that what we have here works. \n",
    "                pos_x = []\n",
    "                for index_x, num_x in enumerate(x_array):\n",
    "\n",
    "                    if num == num_x:\n",
    "                        pos_x.append(index_x)\n",
    "                cont_y = 0\n",
    "                for pos in pos_x:\n",
    "                    if y_array[index] == y_array[pos]:\n",
    "                        cont_y += 1\n",
    "\n",
    "                p_x_given_y = cont_y/len(pos_x)\n",
    "\n",
    "                mi = mi + (p_x_given_y*px*math.log(p_x_given_y*px/(px*py),3))\n",
    "\n",
    "            if mi != None:\n",
    "                smi_ver_vila[i, j] = mi/10\n",
    "            else:\n",
    "                smi_ver_vila[i, j] = 0\n",
    "    return smi_ver_vila\n",
    "\n",
    "# THE ULTIMATE MUTUAL INFOMRATION (FOR 3 VALUES) FUNCTION.\n",
    "\n",
    "def mutual_information_shuffled(dataframe):\n",
    "    side = dataframe.count()['c1'] + 1\n",
    "    i = 0\n",
    "    smi_ver_vila = np.zeros(shape=(side,side))\n",
    "    for index_1, user_1 in dataframe.iterrows():\n",
    "        i += 1\n",
    "        j = 0\n",
    "        for index_2, user_2 in dataframe.iterrows():\n",
    "            j += 1\n",
    "            index_1 = contributions_separation(str(index_1))[0]\n",
    "            index_2 = contributions_separation(str(index_2))[0]\n",
    "            x_array = shuffle(np.asarray(user_1[['c1', 'c2', 'c3','c4', 'c5', 'c6','c7', 'c8', 'c9', 'c10']]))\n",
    "            y_array = shuffle(np.asarray(user_2[['c1', 'c2', 'c3','c4', 'c5', 'c6','c7', 'c8', 'c9', 'c10']]))\n",
    "\n",
    "\n",
    "            y_prob = []  \n",
    "            cont_0y = 0\n",
    "            cont_2y = 0\n",
    "            cont_4y = 0\n",
    "\n",
    "            x_prob = []\n",
    "            cont_0 = 0\n",
    "            cont_2 = 0\n",
    "            cont_4 = 0\n",
    "\n",
    "            # Y PROBABILITIES\n",
    "            for index, num in enumerate(y_array):\n",
    "                # Pair of Study Catched\n",
    "\n",
    "\n",
    "                # Separate Probabilities:\n",
    "\n",
    "\n",
    "                if num == 0:\n",
    "                    cont_0y += 1\n",
    "                elif num == 2:\n",
    "                    cont_2y += 1\n",
    "                else:\n",
    "                    cont_4y += 1\n",
    "            y_prob.append(cont_0y/10)\n",
    "            y_prob.append(cont_2y/10)\n",
    "            y_prob.append(cont_4y/10)\n",
    "\n",
    "\n",
    "\n",
    "\n",
    "            # X PROBABILITIES\n",
    "            for index, num in enumerate(x_array):\n",
    "                # Pair of Study Catched\n",
    "                pair = [num, y_array[index]]\n",
    "\n",
    "                # Separate Probabilities:\n",
    "\n",
    "\n",
    "                if num == 0:\n",
    "                    cont_0 += 1\n",
    "                elif num == 2:\n",
    "                    cont_2 += 1\n",
    "                else:\n",
    "                    cont_4 += 1\n",
    "            x_prob.append(cont_0/10)\n",
    "            x_prob.append(cont_2/10)\n",
    "            x_prob.append(cont_4/10)\n",
    "\n",
    "\n",
    "            # CONDITIONATED PROBABILITY AND MUTUAL INFORMATION    \n",
    "            mi = 0        # INITIATING THE MUTUAL INFORMATION FOR EACH VALUE\n",
    "            for index, num in enumerate(x_array):\n",
    "                # PROBABILITIES\n",
    "                px = x_prob[int(num)//2]\n",
    "                py = y_prob[int(y_array[index])//2]\n",
    "\n",
    "\n",
    "\n",
    "                # Condicionated Probability:\n",
    "                # It looks that what we have here works. \n",
    "                pos_x = []\n",
    "                for index_x, num_x in enumerate(x_array):\n",
    "\n",
    "                    if num == num_x:\n",
    "                        pos_x.append(index_x)\n",
    "                cont_y = 0\n",
    "                for pos in pos_x:\n",
    "                    if y_array[index] == y_array[pos]:\n",
    "                        cont_y += 1\n",
    "\n",
    "                p_x_given_y = cont_y/len(pos_x)\n",
    "\n",
    "                mi = mi + (p_x_given_y*px*math.log(p_x_given_y*px/(px*py),3))\n",
    "\n",
    "            if mi != None:\n",
    "                smi_ver_vila[i, j] = mi/10\n",
    "            else:\n",
    "                smi_ver_vila[i, j] = 0\n",
    "    return smi_ver_vila\n",
    "\n",
    "def mi_masked(natural, shuffled):\n",
    "    mask = np.zeros(natural.shape)\n",
    "    \n",
    "    for i in range(0, natural.shape[0]):\n",
    "        for j in range(0, natural.shape[1]):\n",
    "            if((natural[i,j]-shuffled[i,j]) > 0):\n",
    "                mask[i, j] = 1\n",
    "    return mask*natural       "
   ]
  },
  {
   "cell_type": "code",
   "execution_count": 14,
   "id": "upper-cleaners",
   "metadata": {},
   "outputs": [],
   "source": [
    "mi_clima = mutual_information(user_evo_clima)\n",
    "mi_vila = mutual_information(user_evo)\n",
    "mi_aigua = mutual_information(user_evo_aigua)"
   ]
  },
  {
   "cell_type": "code",
   "execution_count": 15,
   "id": "several-immigration",
   "metadata": {},
   "outputs": [],
   "source": [
    "mi_clima_shuffled = mutual_information_shuffled(user_evo_clima)\n",
    "mi_aigua_shuffled = mutual_information_shuffled(user_evo_aigua)\n",
    "mi_vila_shuffled = mutual_information_shuffled(user_evo)"
   ]
  },
  {
   "cell_type": "markdown",
   "id": "advised-bangladesh",
   "metadata": {},
   "source": [
    "### Total Mutual Information"
   ]
  },
  {
   "cell_type": "code",
   "execution_count": 16,
   "id": "fatty-saturday",
   "metadata": {},
   "outputs": [],
   "source": [
    "raw_evo_vila = user_evo[['c1', 'c2', 'c3','c4', 'c5', 'c6','c7', 'c8', 'c9', 'c10']]\n",
    "raw_evo_clima = user_evo_clima[['c1', 'c2', 'c3','c4', 'c5', 'c6','c7', 'c8', 'c9', 'c10']]\n",
    "raw_evo_aigua = user_evo_aigua[['c1', 'c2', 'c3','c4', 'c5', 'c6','c7', 'c8', 'c9', 'c10']]\n",
    "\n",
    "frames = [raw_evo_vila, raw_evo_aigua, raw_evo_clima]\n",
    "\n",
    "total_evo = pd.concat(frames)\n",
    "\n",
    "total_evo = total_evo.reset_index()\n",
    "\n",
    "mi_total = mutual_information(total_evo)\n",
    "mi_total_shuffled = mutual_information_shuffled(total_evo)\n",
    "\n",
    "mi_total_def = mi_masked(mi_total, mi_total_shuffled)"
   ]
  },
  {
   "cell_type": "code",
   "execution_count": 17,
   "id": "correct-experiment",
   "metadata": {},
   "outputs": [],
   "source": [
    "np.max(mi_total_def)\n",
    "mi_total_def_norm = mi_total_def/np.max(mi_total_def)"
   ]
  },
  {
   "cell_type": "markdown",
   "id": "still-drive",
   "metadata": {},
   "source": [
    "## Clusteritzation"
   ]
  },
  {
   "cell_type": "code",
   "execution_count": 18,
   "id": "meaningful-residence",
   "metadata": {},
   "outputs": [
    {
     "data": {
      "text/plain": [
       "500"
      ]
     },
     "execution_count": 18,
     "metadata": {},
     "output_type": "execute_result"
    }
   ],
   "source": [
    "kmeans = KMeans(n_clusters=8).fit(mi_total_def_norm)\n",
    "labels = kmeans.labels_\n",
    "\n",
    "len(labels)"
   ]
  },
  {
   "cell_type": "markdown",
   "id": "recovered-tutorial",
   "metadata": {},
   "source": [
    "#### Vila"
   ]
  },
  {
   "cell_type": "code",
   "execution_count": 19,
   "id": "italic-construction",
   "metadata": {},
   "outputs": [
    {
     "name": "stderr",
     "output_type": "stream",
     "text": [
      "/Users/tonidomenech/Desktop/Python/envs/tfg/lib/python3.8/site-packages/pandas-1.3.0.dev0+1028.gbed5ae2c14-py3.8-macosx-10.14.6-arm64.egg/pandas/core/frame.py:3583: SettingWithCopyWarning: \n",
      "A value is trying to be set on a copy of a slice from a DataFrame.\n",
      "Try using .loc[row_indexer,col_indexer] = value instead\n",
      "\n",
      "See the caveats in the documentation: https://pandas.pydata.org/pandas-docs/stable/user_guide/indexing.html#returning-a-view-versus-a-copy\n",
      "  self._set_item(key, value)\n",
      "/Users/tonidomenech/Desktop/Python/envs/tfg/lib/python3.8/site-packages/pandas-1.3.0.dev0+1028.gbed5ae2c14-py3.8-macosx-10.14.6-arm64.egg/pandas/core/frame.py:4776: SettingWithCopyWarning: \n",
      "A value is trying to be set on a copy of a slice from a DataFrame\n",
      "\n",
      "See the caveats in the documentation: https://pandas.pydata.org/pandas-docs/stable/user_guide/indexing.html#returning-a-view-versus-a-copy\n",
      "  return super().drop(\n"
     ]
    }
   ],
   "source": [
    "user_treated = user_vila[['genere', 'rang_edat', 'nivell_estudis']]\n",
    "\n",
    "user_treated[['gender', 'age', 'education']] = user_treated[['genere', 'rang_edat', 'nivell_estudis']]\n",
    "\n",
    "user_treated.drop('genere', axis=1, inplace=True)\n",
    "user_treated.drop('rang_edat', axis=1, inplace=True)\n",
    "user_treated.drop('nivell_estudis', axis=1, inplace=True)"
   ]
  },
  {
   "cell_type": "code",
   "execution_count": 20,
   "id": "available-binding",
   "metadata": {},
   "outputs": [
    {
     "data": {
      "text/plain": [
       "181"
      ]
     },
     "execution_count": 20,
     "metadata": {},
     "output_type": "execute_result"
    }
   ],
   "source": [
    "len(user_treated['age'])"
   ]
  },
  {
   "cell_type": "markdown",
   "id": "raised-converter",
   "metadata": {},
   "source": [
    "#### Aigua"
   ]
  },
  {
   "cell_type": "code",
   "execution_count": 21,
   "id": "otherwise-training",
   "metadata": {},
   "outputs": [],
   "source": [
    "participants_treated = participants[['gender', 'age', 'education']]"
   ]
  },
  {
   "cell_type": "code",
   "execution_count": 22,
   "id": "italian-height",
   "metadata": {},
   "outputs": [
    {
     "data": {
      "text/plain": [
       "126"
      ]
     },
     "execution_count": 22,
     "metadata": {},
     "output_type": "execute_result"
    }
   ],
   "source": [
    "len(participants_treated['age'])"
   ]
  },
  {
   "cell_type": "markdown",
   "id": "wired-print",
   "metadata": {},
   "source": [
    "#### Clima"
   ]
  },
  {
   "cell_type": "code",
   "execution_count": 23,
   "id": "resident-change",
   "metadata": {},
   "outputs": [],
   "source": [
    "user_cccb_treated = user_cccb[['gender', 'age_range', 'educational_level']]\n",
    "\n",
    "user_cccb_treated[['age', 'education']] = user_cccb_treated[['age_range', 'educational_level']]\n",
    "\n",
    "user_cccb_treated.drop('age_range', axis=1, inplace=True)\n",
    "user_cccb_treated.drop('educational_level', axis=1, inplace=True)"
   ]
  },
  {
   "cell_type": "code",
   "execution_count": 24,
   "id": "different-fourth",
   "metadata": {},
   "outputs": [
    {
     "data": {
      "text/plain": [
       "188"
      ]
     },
     "execution_count": 24,
     "metadata": {},
     "output_type": "execute_result"
    }
   ],
   "source": [
    "len(user_cccb_treated['age'])"
   ]
  },
  {
   "cell_type": "markdown",
   "id": "fluid-correction",
   "metadata": {},
   "source": [
    "### Joining the Clusters.\n",
    "\n",
    "There is some kind of error in the data of the clima dataset. So we aren't going to use it for this plots but we will be using it for the mutual information either way"
   ]
  },
  {
   "cell_type": "code",
   "execution_count": 25,
   "id": "lucky-tonight",
   "metadata": {},
   "outputs": [],
   "source": [
    "frames = [user_treated, participants_treated]\n",
    "\n",
    "total_demographic = pd.concat(frames)\n",
    "total_demographic.reset_index()\n",
    "\n",
    "total_demographic = total_demographic[['gender', 'age', 'education']]"
   ]
  },
  {
   "cell_type": "code",
   "execution_count": 26,
   "id": "consistent-confusion",
   "metadata": {},
   "outputs": [],
   "source": [
    "labels = labels[:307]"
   ]
  },
  {
   "cell_type": "code",
   "execution_count": 27,
   "id": "fluid-stylus",
   "metadata": {},
   "outputs": [],
   "source": [
    "total_demographic['cluster'] = labels"
   ]
  },
  {
   "cell_type": "code",
   "execution_count": 28,
   "id": "outer-ethics",
   "metadata": {},
   "outputs": [],
   "source": [
    "total_demographic.dropna(inplace=True)"
   ]
  },
  {
   "cell_type": "code",
   "execution_count": 56,
   "id": "antique-check",
   "metadata": {},
   "outputs": [
    {
     "data": {
      "image/png": "[encoded data removed]",
      "text/plain": [
       "<Figure size 432x288 with 1 Axes>"
      ]
     },
     "metadata": {
      "needs_background": "light"
     },
     "output_type": "display_data"
    }
   ],
   "source": [
    "sns.histplot(total_demographic, x='age', y='education', hue='cluster', bins=120)\n",
    "plt.grid()\n",
    "plt.savefig('cluster')"
   ]
  },
  {
   "cell_type": "code",
   "execution_count": 50,
   "id": "fifteen-activity",
   "metadata": {},
   "outputs": [
    {
     "data": {
      "text/plain": [
       "<AxesSubplot:xlabel='age', ylabel='education'>"
      ]
     },
     "execution_count": 50,
     "metadata": {},
     "output_type": "execute_result"
    },
    {
     "data": {
      "image/png": "[encoded data removed]",
      "text/plain": [
       "<Figure size 432x288 with 1 Axes>"
      ]
     },
     "metadata": {
      "needs_background": "light"
     },
     "output_type": "display_data"
    }
   ],
   "source": [
    "sns.histplot(total_demographic[total_demographic['cluster']==2], x='age', y='education', hue='gender')"
   ]
  },
  {
   "cell_type": "code",
   "execution_count": 54,
   "id": "fresh-disaster",
   "metadata": {},
   "outputs": [
    {
     "ename": "ValueError",
     "evalue": "No variables found for grid columns.",
     "output_type": "error",
     "traceback": [
      "\u001b[0;31m---------------------------------------------------------------------------\u001b[0m",
      "\u001b[0;31mValueError\u001b[0m                                Traceback (most recent call last)",
      "\u001b[0;32m<ipython-input-54-d9a0d947124f>\u001b[0m in \u001b[0;36m<module>\u001b[0;34m\u001b[0m\n\u001b[0;32m----> 1\u001b[0;31m \u001b[0msns\u001b[0m\u001b[0;34m.\u001b[0m\u001b[0mpairplot\u001b[0m\u001b[0;34m(\u001b[0m\u001b[0mtotal_demographic\u001b[0m\u001b[0;34m,\u001b[0m \u001b[0mhue\u001b[0m\u001b[0;34m=\u001b[0m\u001b[0;34m'cluster'\u001b[0m\u001b[0;34m)\u001b[0m\u001b[0;34m\u001b[0m\u001b[0;34m\u001b[0m\u001b[0m\n\u001b[0m",
      "\u001b[0;32m~/Desktop/Python/envs/tfg/lib/python3.8/site-packages/seaborn/_decorators.py\u001b[0m in \u001b[0;36minner_f\u001b[0;34m(*args, **kwargs)\u001b[0m\n\u001b[1;32m     44\u001b[0m             )\n\u001b[1;32m     45\u001b[0m         \u001b[0mkwargs\u001b[0m\u001b[0;34m.\u001b[0m\u001b[0mupdate\u001b[0m\u001b[0;34m(\u001b[0m\u001b[0;34m{\u001b[0m\u001b[0mk\u001b[0m\u001b[0;34m:\u001b[0m \u001b[0marg\u001b[0m \u001b[0;32mfor\u001b[0m \u001b[0mk\u001b[0m\u001b[0;34m,\u001b[0m \u001b[0marg\u001b[0m \u001b[0;32min\u001b[0m \u001b[0mzip\u001b[0m\u001b[0;34m(\u001b[0m\u001b[0msig\u001b[0m\u001b[0;34m.\u001b[0m\u001b[0mparameters\u001b[0m\u001b[0;34m,\u001b[0m \u001b[0margs\u001b[0m\u001b[0;34m)\u001b[0m\u001b[0;34m}\u001b[0m\u001b[0;34m)\u001b[0m\u001b[0;34m\u001b[0m\u001b[0;34m\u001b[0m\u001b[0m\n\u001b[0;32m---> 46\u001b[0;31m         \u001b[0;32mreturn\u001b[0m \u001b[0mf\u001b[0m\u001b[0;34m(\u001b[0m\u001b[0;34m**\u001b[0m\u001b[0mkwargs\u001b[0m\u001b[0;34m)\u001b[0m\u001b[0;34m\u001b[0m\u001b[0;34m\u001b[0m\u001b[0m\n\u001b[0m\u001b[1;32m     47\u001b[0m     \u001b[0;32mreturn\u001b[0m \u001b[0minner_f\u001b[0m\u001b[0;34m\u001b[0m\u001b[0;34m\u001b[0m\u001b[0m\n\u001b[1;32m     48\u001b[0m \u001b[0;34m\u001b[0m\u001b[0m\n",
      "\u001b[0;32m~/Desktop/Python/envs/tfg/lib/python3.8/site-packages/seaborn/axisgrid.py\u001b[0m in \u001b[0;36mpairplot\u001b[0;34m(data, hue, hue_order, palette, vars, x_vars, y_vars, kind, diag_kind, markers, height, aspect, corner, dropna, plot_kws, diag_kws, grid_kws, size)\u001b[0m\n\u001b[1;32m   1987\u001b[0m     \u001b[0;31m# Set up the PairGrid\u001b[0m\u001b[0;34m\u001b[0m\u001b[0;34m\u001b[0m\u001b[0;34m\u001b[0m\u001b[0m\n\u001b[1;32m   1988\u001b[0m     \u001b[0mgrid_kws\u001b[0m\u001b[0;34m.\u001b[0m\u001b[0msetdefault\u001b[0m\u001b[0;34m(\u001b[0m\u001b[0;34m\"diag_sharey\"\u001b[0m\u001b[0;34m,\u001b[0m \u001b[0mdiag_kind\u001b[0m \u001b[0;34m==\u001b[0m \u001b[0;34m\"hist\"\u001b[0m\u001b[0;34m)\u001b[0m\u001b[0;34m\u001b[0m\u001b[0;34m\u001b[0m\u001b[0m\n\u001b[0;32m-> 1989\u001b[0;31m     grid = PairGrid(data, vars=vars, x_vars=x_vars, y_vars=y_vars, hue=hue,\n\u001b[0m\u001b[1;32m   1990\u001b[0m                     \u001b[0mhue_order\u001b[0m\u001b[0;34m=\u001b[0m\u001b[0mhue_order\u001b[0m\u001b[0;34m,\u001b[0m \u001b[0mpalette\u001b[0m\u001b[0;34m=\u001b[0m\u001b[0mpalette\u001b[0m\u001b[0;34m,\u001b[0m \u001b[0mcorner\u001b[0m\u001b[0;34m=\u001b[0m\u001b[0mcorner\u001b[0m\u001b[0;34m,\u001b[0m\u001b[0;34m\u001b[0m\u001b[0;34m\u001b[0m\u001b[0m\n\u001b[1;32m   1991\u001b[0m                     height=height, aspect=aspect, dropna=dropna, **grid_kws)\n",
      "\u001b[0;32m~/Desktop/Python/envs/tfg/lib/python3.8/site-packages/seaborn/_decorators.py\u001b[0m in \u001b[0;36minner_f\u001b[0;34m(*args, **kwargs)\u001b[0m\n\u001b[1;32m     44\u001b[0m             )\n\u001b[1;32m     45\u001b[0m         \u001b[0mkwargs\u001b[0m\u001b[0;34m.\u001b[0m\u001b[0mupdate\u001b[0m\u001b[0;34m(\u001b[0m\u001b[0;34m{\u001b[0m\u001b[0mk\u001b[0m\u001b[0;34m:\u001b[0m \u001b[0marg\u001b[0m \u001b[0;32mfor\u001b[0m \u001b[0mk\u001b[0m\u001b[0;34m,\u001b[0m \u001b[0marg\u001b[0m \u001b[0;32min\u001b[0m \u001b[0mzip\u001b[0m\u001b[0;34m(\u001b[0m\u001b[0msig\u001b[0m\u001b[0;34m.\u001b[0m\u001b[0mparameters\u001b[0m\u001b[0;34m,\u001b[0m \u001b[0margs\u001b[0m\u001b[0;34m)\u001b[0m\u001b[0;34m}\u001b[0m\u001b[0;34m)\u001b[0m\u001b[0;34m\u001b[0m\u001b[0;34m\u001b[0m\u001b[0m\n\u001b[0;32m---> 46\u001b[0;31m         \u001b[0;32mreturn\u001b[0m \u001b[0mf\u001b[0m\u001b[0;34m(\u001b[0m\u001b[0;34m**\u001b[0m\u001b[0mkwargs\u001b[0m\u001b[0;34m)\u001b[0m\u001b[0;34m\u001b[0m\u001b[0;34m\u001b[0m\u001b[0m\n\u001b[0m\u001b[1;32m     47\u001b[0m     \u001b[0;32mreturn\u001b[0m \u001b[0minner_f\u001b[0m\u001b[0;34m\u001b[0m\u001b[0;34m\u001b[0m\u001b[0m\n\u001b[1;32m     48\u001b[0m \u001b[0;34m\u001b[0m\u001b[0m\n",
      "\u001b[0;32m~/Desktop/Python/envs/tfg/lib/python3.8/site-packages/seaborn/axisgrid.py\u001b[0m in \u001b[0;36m__init__\u001b[0;34m(self, data, hue, hue_order, palette, hue_kws, vars, x_vars, y_vars, corner, diag_sharey, height, aspect, layout_pad, despine, dropna, size)\u001b[0m\n\u001b[1;32m   1174\u001b[0m \u001b[0;34m\u001b[0m\u001b[0m\n\u001b[1;32m   1175\u001b[0m         \u001b[0;32mif\u001b[0m \u001b[0;32mnot\u001b[0m \u001b[0mx_vars\u001b[0m\u001b[0;34m:\u001b[0m\u001b[0;34m\u001b[0m\u001b[0;34m\u001b[0m\u001b[0m\n\u001b[0;32m-> 1176\u001b[0;31m             \u001b[0;32mraise\u001b[0m \u001b[0mValueError\u001b[0m\u001b[0;34m(\u001b[0m\u001b[0;34m\"No variables found for grid columns.\"\u001b[0m\u001b[0;34m)\u001b[0m\u001b[0;34m\u001b[0m\u001b[0;34m\u001b[0m\u001b[0m\n\u001b[0m\u001b[1;32m   1177\u001b[0m         \u001b[0;32mif\u001b[0m \u001b[0;32mnot\u001b[0m \u001b[0my_vars\u001b[0m\u001b[0;34m:\u001b[0m\u001b[0;34m\u001b[0m\u001b[0;34m\u001b[0m\u001b[0m\n\u001b[1;32m   1178\u001b[0m             \u001b[0;32mraise\u001b[0m \u001b[0mValueError\u001b[0m\u001b[0;34m(\u001b[0m\u001b[0;34m\"No variables found for grid rows.\"\u001b[0m\u001b[0;34m)\u001b[0m\u001b[0;34m\u001b[0m\u001b[0;34m\u001b[0m\u001b[0m\n",
      "\u001b[0;31mValueError\u001b[0m: No variables found for grid columns."
     ]
    }
   ],
   "source": [
    "sns.pairplot(total_demographic, x='age', y='education', hue='cluster')"
   ]
  },
  {
   "cell_type": "code",
   "execution_count": null,
   "id": "acute-three",
   "metadata": {},
   "outputs": [],
   "source": []
  }
 ],
 "metadata": {
  "kernelspec": {
   "display_name": "Python 3",
   "language": "python",
   "name": "python3"
  },
  "language_info": {
   "codemirror_mode": {
    "name": "ipython",
    "version": 3
   },
   "file_extension": ".py",
   "mimetype": "text/x-python",
   "name": "python",
   "nbconvert_exporter": "python",
   "pygments_lexer": "ipython3",
   "version": "3.8.2"
  }
 },
 "nbformat": 4,
 "nbformat_minor": 5
}
